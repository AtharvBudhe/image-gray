{
 "cells": [
  {
   "cell_type": "code",
   "execution_count": 15,
   "source": [
    "#import libaries\r\n",
    "import numpy as np\r\n",
    "import cv2\r\n",
    "\r\n",
    "#read the image\r\n",
    "img=cv2.imread('August.jpg')\r\n",
    "\r\n",
    "#convert the image to gray scale\r\n",
    "gray_image = cv2.cvtColor(img,cv2.COLOR_BGR2GRAY)\r\n",
    "\r\n",
    "#invert the image\r\n",
    "inverted_gray_image = 255 - gray_image\r\n",
    "\r\n",
    "#blur the image by gaussian function\r\n",
    "blurred_img = cv2.GaussianBlur(inverted_gray_image,(21,21), 0)\r\n",
    "\r\n",
    "#invert the blurred image\r\n",
    "inverted_gray_img = 255 - blurred_img\r\n",
    "\r\n",
    "#create pencil sketch image\r\n",
    "pencil_sketch_IMG = cv2.divide(gray_image,inverted_gray_img,scale=256.0)\r\n",
    "\r\n",
    "#show the image\r\n",
    "cv2.imshow('August',img)\r\n",
    "cv2.imshow('new image',inverted_gray_image)\r\n",
    "cv2.imshow('new image 2',pencil_sketch_IMG)\r\n",
    "cv2.imshow('new image 3',blurred_img)\r\n",
    "\r\n",
    "cv2.waitKey(0)\r\n",
    "cv2.destroyAllWindows()"
   ],
   "outputs": [],
   "metadata": {}
  }
 ],
 "metadata": {
  "orig_nbformat": 4,
  "language_info": {
   "name": "python",
   "version": "3.9.2",
   "mimetype": "text/x-python",
   "codemirror_mode": {
    "name": "ipython",
    "version": 3
   },
   "pygments_lexer": "ipython3",
   "nbconvert_exporter": "python",
   "file_extension": ".py"
  },
  "kernelspec": {
   "name": "python3",
   "display_name": "Python 3.9.2 64-bit"
  },
  "interpreter": {
   "hash": "c43467d7724bf66324b8fc28307a5d152c3b9d6df7922a7789cf7d831913d408"
  }
 },
 "nbformat": 4,
 "nbformat_minor": 2
}